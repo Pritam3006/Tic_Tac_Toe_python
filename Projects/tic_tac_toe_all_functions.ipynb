{
 "cells": [
  {
   "cell_type": "code",
   "execution_count": 37,
   "id": "5e016fd8",
   "metadata": {},
   "outputs": [],
   "source": [
    "from IPython.display import clear_output\n",
    "#a function that can print out a board\n",
    "\n",
    "def display_board(board):\n",
    "    clear_output()\n",
    "    print(board[7],'|',board[8],'|',board[9])\n",
    "    print(board[4],'|',board[5],'|',board[6])\n",
    "    print(board[1],'|',board[2],'|',board[3])"
   ]
  },
  {
   "cell_type": "code",
   "execution_count": 38,
   "id": "d76a81f3",
   "metadata": {},
   "outputs": [],
   "source": [
    "test_board = ['#','X','O','X','O','X','O','X','O','X']"
   ]
  },
  {
   "cell_type": "code",
   "execution_count": 39,
   "id": "d0f00e25",
   "metadata": {},
   "outputs": [
    {
     "name": "stdout",
     "output_type": "stream",
     "text": [
      "X | O | X\n",
      "O | X | O\n",
      "X | O | X\n"
     ]
    }
   ],
   "source": [
    "display_board(test_board)"
   ]
  },
  {
   "cell_type": "code",
   "execution_count": null,
   "id": "c3acefda",
   "metadata": {},
   "outputs": [],
   "source": []
  },
  {
   "cell_type": "code",
   "execution_count": 40,
   "id": "5bd3ab9b",
   "metadata": {},
   "outputs": [],
   "source": [
    "#a function that can take in a player input and assign their marker as 'X' or 'O'\n",
    "\n",
    "def player_input():\n",
    "    #output = (player1 marker, player2 marker)\n",
    "    marker = ''\n",
    "    while not (marker == 'X' or marker == 'O'):\n",
    "        marker = input('Player1: Choose X or O: ').upper()\n",
    "    if marker == 'X':\n",
    "        return ('X','O')\n",
    "    else:\n",
    "        return ('O','X')"
   ]
  },
  {
   "cell_type": "code",
   "execution_count": 41,
   "id": "e6cc67a3",
   "metadata": {},
   "outputs": [
    {
     "name": "stdout",
     "output_type": "stream",
     "text": [
      "Player1: Choose X or O: X\n"
     ]
    }
   ],
   "source": [
    "player1_marker, player2_marker = player_input()"
   ]
  },
  {
   "cell_type": "code",
   "execution_count": 42,
   "id": "50376ac5",
   "metadata": {},
   "outputs": [
    {
     "data": {
      "text/plain": [
       "'O'"
      ]
     },
     "execution_count": 42,
     "metadata": {},
     "output_type": "execute_result"
    }
   ],
   "source": [
    "player2_marker"
   ]
  },
  {
   "cell_type": "code",
   "execution_count": null,
   "id": "b9039c4f",
   "metadata": {},
   "outputs": [],
   "source": []
  },
  {
   "cell_type": "code",
   "execution_count": 43,
   "id": "831718a1",
   "metadata": {},
   "outputs": [],
   "source": [
    "#a function that takes in the board list object, a marker ('X' or 'O')\n",
    "\n",
    "def place_marker(board, marker, position):\n",
    "    if marker == 'X' or marker == 'O':\n",
    "        board[position] = marker\n",
    "    else:\n",
    "        pass"
   ]
  },
  {
   "cell_type": "code",
   "execution_count": 44,
   "id": "eca1679b",
   "metadata": {},
   "outputs": [
    {
     "data": {
      "text/plain": [
       "['#', 'X', 'O', 'X', 'O', 'X', 'O', 'X', 'O', 'X']"
      ]
     },
     "execution_count": 44,
     "metadata": {},
     "output_type": "execute_result"
    }
   ],
   "source": [
    "test_board"
   ]
  },
  {
   "cell_type": "code",
   "execution_count": 45,
   "id": "c0cd095e",
   "metadata": {},
   "outputs": [],
   "source": [
    "place_marker(test_board,'$',8)"
   ]
  },
  {
   "cell_type": "code",
   "execution_count": 46,
   "id": "513a0890",
   "metadata": {},
   "outputs": [
    {
     "name": "stdout",
     "output_type": "stream",
     "text": [
      "X | O | X\n",
      "O | X | O\n",
      "X | O | X\n"
     ]
    }
   ],
   "source": [
    "display_board(test_board)"
   ]
  },
  {
   "cell_type": "code",
   "execution_count": 47,
   "id": "7e9756bb",
   "metadata": {},
   "outputs": [],
   "source": [
    "#a function that takes in a board and a mark (X or O) and then checks to see if that mark has won\n",
    "\n",
    "#all rows and columns to see if they all share the same marker\n",
    "#2 diagonals, check to see match\n",
    "\n",
    "def win_check(board,mark):\n",
    "        return ((board[7] == board[8] == board[9] == mark) or\n",
    "                (board[4] == board[5] == board[6] == mark) or\n",
    "                (board[1] == board[2] == board[3] == mark) or\n",
    "                (board[7] == board[4] == board[1] == mark) or\n",
    "                (board[8] == board[5] == board[2] == mark) or\n",
    "                (board[9] == board[6] == board[3] == mark) or\n",
    "                (board[7] == board[5] == board[3] == mark) or\n",
    "                (board[9] == board[5] == board[1] == mark)\n",
    "               )"
   ]
  },
  {
   "cell_type": "code",
   "execution_count": 48,
   "id": "626ae9c8",
   "metadata": {},
   "outputs": [
    {
     "name": "stdout",
     "output_type": "stream",
     "text": [
      "X | O | X\n",
      "O | X | O\n",
      "X | O | X\n"
     ]
    }
   ],
   "source": [
    "display_board(test_board)"
   ]
  },
  {
   "cell_type": "code",
   "execution_count": 49,
   "id": "b7e63240",
   "metadata": {},
   "outputs": [
    {
     "data": {
      "text/plain": [
       "True"
      ]
     },
     "execution_count": 49,
     "metadata": {},
     "output_type": "execute_result"
    }
   ],
   "source": [
    "win_check(test_board,'X')"
   ]
  },
  {
   "cell_type": "code",
   "execution_count": null,
   "id": "c651fd87",
   "metadata": {},
   "outputs": [],
   "source": []
  },
  {
   "cell_type": "code",
   "execution_count": 50,
   "id": "a5f1867a",
   "metadata": {},
   "outputs": [],
   "source": [
    "# function that uses the random module to randomly decide which player goes first.\n",
    "\n",
    "import random\n",
    "\n",
    "def choose_first():\n",
    "    flip = random.randint(0,1)\n",
    "    if flip == 0:\n",
    "        return 'Player 1'\n",
    "    else:\n",
    "        return 'Player 2'"
   ]
  },
  {
   "cell_type": "code",
   "execution_count": 51,
   "id": "9c70f602",
   "metadata": {},
   "outputs": [
    {
     "data": {
      "text/plain": [
       "'Player 1'"
      ]
     },
     "execution_count": 51,
     "metadata": {},
     "output_type": "execute_result"
    }
   ],
   "source": [
    "choose_first()"
   ]
  },
  {
   "cell_type": "code",
   "execution_count": 52,
   "id": "f6ec4cfb",
   "metadata": {},
   "outputs": [
    {
     "data": {
      "text/plain": [
       "'Player 2'"
      ]
     },
     "execution_count": 52,
     "metadata": {},
     "output_type": "execute_result"
    }
   ],
   "source": [
    "choose_first()"
   ]
  },
  {
   "cell_type": "code",
   "execution_count": null,
   "id": "469be4d7",
   "metadata": {},
   "outputs": [],
   "source": []
  },
  {
   "cell_type": "code",
   "execution_count": 53,
   "id": "81990db1",
   "metadata": {},
   "outputs": [],
   "source": [
    "#a function that returns a boolean indicating whether a space on the board is freely available\n",
    "\n",
    "def space_check(board,position):\n",
    "    return board[position] == ' '"
   ]
  },
  {
   "cell_type": "code",
   "execution_count": 54,
   "id": "c2913742",
   "metadata": {},
   "outputs": [
    {
     "data": {
      "text/plain": [
       "False"
      ]
     },
     "execution_count": 54,
     "metadata": {},
     "output_type": "execute_result"
    }
   ],
   "source": [
    "space_check(test_board,5)"
   ]
  },
  {
   "cell_type": "code",
   "execution_count": 55,
   "id": "29c0e1a6",
   "metadata": {},
   "outputs": [
    {
     "name": "stdout",
     "output_type": "stream",
     "text": [
      "X | O | X\n",
      "O | X | O\n",
      "X | O | X\n"
     ]
    }
   ],
   "source": [
    "display_board(test_board)"
   ]
  },
  {
   "cell_type": "code",
   "execution_count": null,
   "id": "db79c2a4",
   "metadata": {},
   "outputs": [],
   "source": []
  },
  {
   "cell_type": "code",
   "execution_count": 56,
   "id": "7ced5516",
   "metadata": {},
   "outputs": [],
   "source": [
    "#a function that checks if the board is full and returns a boolean value\n",
    "\n",
    "def full_board_check(board):\n",
    "    for i in range(1,10):\n",
    "        if space_check(board,i):\n",
    "            return False\n",
    "    #board is full\n",
    "    return True"
   ]
  },
  {
   "cell_type": "code",
   "execution_count": 57,
   "id": "7b3bebbe",
   "metadata": {},
   "outputs": [
    {
     "data": {
      "text/plain": [
       "True"
      ]
     },
     "execution_count": 57,
     "metadata": {},
     "output_type": "execute_result"
    }
   ],
   "source": [
    "full_board_check(test_board)"
   ]
  },
  {
   "cell_type": "code",
   "execution_count": 58,
   "id": "8eb9396e",
   "metadata": {},
   "outputs": [],
   "source": [
    "#a function that asks for a player's next position (as a number 1-9) and then uses the function \n",
    "#from step 6 to check if it's a free position. If it is, then return the position for later use.\n",
    "\n",
    "def player_choice(board):\n",
    "    position = 0\n",
    "    while position not in [1,2,3,4,5,6,7,8,9] or not space_check(board,position):\n",
    "        position = int(input('Choose a position: (1-9) '))\n",
    "    return position"
   ]
  },
  {
   "cell_type": "code",
   "execution_count": null,
   "id": "ef19e79b",
   "metadata": {},
   "outputs": [],
   "source": []
  },
  {
   "cell_type": "code",
   "execution_count": 60,
   "id": "841684ae",
   "metadata": {},
   "outputs": [],
   "source": [
    "#a function that asks the player if they want to play again and returns a boolean True if they do want to play again.\n",
    "\n",
    "def replay():\n",
    "    choice = input('Play again? Enter Y or N ')\n",
    "    return choice == 'Y'"
   ]
  },
  {
   "cell_type": "code",
   "execution_count": null,
   "id": "6f5eab49",
   "metadata": {},
   "outputs": [],
   "source": []
  },
  {
   "cell_type": "code",
   "execution_count": null,
   "id": "b70c93a7",
   "metadata": {},
   "outputs": [],
   "source": []
  },
  {
   "cell_type": "code",
   "execution_count": null,
   "id": "0746a3a5",
   "metadata": {},
   "outputs": [
    {
     "name": "stdout",
     "output_type": "stream",
     "text": [
      "  |   |  \n",
      "  |   |  \n",
      "  |   |  \n"
     ]
    }
   ],
   "source": [
    "#sum up all the functions to make the game work\n",
    "\n",
    "print('WELCOME to Tic-Tac-Toe')\n",
    "\n",
    "while True:\n",
    "    #play the game\n",
    "    \n",
    "    ##set everything up (Board, Whose first, choose markers (X,O))\n",
    "    the_board = [' ']*10\n",
    "    player1_marker, player2_marker = player_input()\n",
    "    \n",
    "    turn = choose_first()\n",
    "    print(turn,'will go first ')\n",
    "    \n",
    "    play_game = input('Ready to play! Y or N? ')\n",
    "    \n",
    "    if play_game.lower() == 'y':\n",
    "        game_on = True\n",
    "    else:\n",
    "        game_on = False\n",
    "        \n",
    "    \n",
    "    ##game play\n",
    "    \n",
    "    while game_on:\n",
    "        if turn == 'Player 1':\n",
    "            #show the board\n",
    "            display_board(the_board)\n",
    "            \n",
    "            #choose a position\n",
    "            position = player_choice(the_board)\n",
    "            \n",
    "            #place the marker on the position\n",
    "            place_marker(the_board,player1_marker,position)\n",
    "            \n",
    "            #check if they won\n",
    "            if win_check(the_board,player1_marker):\n",
    "                display_board(the_board)\n",
    "                print('Player 1 has WON!')\n",
    "                game_on = False\n",
    "            else:\n",
    "                if full_board_check(the_board):\n",
    "                    display_board(the_board)\n",
    "                    print('TIE game!')\n",
    "                    break\n",
    "                else:\n",
    "                    turn = 'Player 2'\n",
    "        else:\n",
    "            #show the board\n",
    "            display_board(the_board)\n",
    "            #choose a position\n",
    "            position = player_choice(the_board)\n",
    "            #place the marker on the position\n",
    "            place_marker(the_board,player2_marker,position)\n",
    "            \n",
    "            #check if they won\n",
    "            if win_check(the_board,player2_marker):\n",
    "                display_board(the_board)\n",
    "                print('Player 2 has WON!')\n",
    "                game_on = False\n",
    "            else:\n",
    "                if full_board_check(the_board):\n",
    "                    display_board(the_board)\n",
    "                    print('TIE game!')\n",
    "                    break\n",
    "                else:\n",
    "                    turn = 'Player 1'\n",
    "    \n",
    "    \n",
    "    if not replay():\n",
    "        break\n",
    "    #break out of the loop on replay()"
   ]
  },
  {
   "cell_type": "code",
   "execution_count": null,
   "id": "17723c84",
   "metadata": {},
   "outputs": [],
   "source": []
  },
  {
   "cell_type": "code",
   "execution_count": null,
   "id": "ff928dc6",
   "metadata": {},
   "outputs": [],
   "source": []
  }
 ],
 "metadata": {
  "kernelspec": {
   "display_name": "Python 3 (ipykernel)",
   "language": "python",
   "name": "python3"
  },
  "language_info": {
   "codemirror_mode": {
    "name": "ipython",
    "version": 3
   },
   "file_extension": ".py",
   "mimetype": "text/x-python",
   "name": "python",
   "nbconvert_exporter": "python",
   "pygments_lexer": "ipython3",
   "version": "3.9.7"
  }
 },
 "nbformat": 4,
 "nbformat_minor": 5
}
